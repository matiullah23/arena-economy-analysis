{
 "cells": [
  {
   "cell_type": "code",
   "execution_count": 19,
   "metadata": {},
   "outputs": [],
   "source": [
    "%matplotlib inline\n",
    "import matplotlib.pyplot as plt\n",
    "import numpy as np\n",
    "import pandas as pd"
   ]
  },
  {
   "cell_type": "code",
   "execution_count": 20,
   "metadata": {},
   "outputs": [
    {
     "data": {
      "text/html": [
       "<div>\n",
       "<style>\n",
       "    .dataframe thead tr:only-child th {\n",
       "        text-align: right;\n",
       "    }\n",
       "\n",
       "    .dataframe thead th {\n",
       "        text-align: left;\n",
       "    }\n",
       "\n",
       "    .dataframe tbody tr th {\n",
       "        vertical-align: top;\n",
       "    }\n",
       "</style>\n",
       "<table border=\"1\" class=\"dataframe\">\n",
       "  <thead>\n",
       "    <tr style=\"text-align: right;\">\n",
       "      <th></th>\n",
       "      <th>NBA Season</th>\n",
       "      <th>Team</th>\n",
       "      <th>% Salary Cap</th>\n",
       "      <th>Prev # All-Stars</th>\n",
       "      <th>Prev W-L</th>\n",
       "      <th># (H) Games</th>\n",
       "      <th>(H) Attendance Season</th>\n",
       "      <th>(H) Arena Capacity</th>\n",
       "      <th>(H) Capacity Season</th>\n",
       "      <th>(H) Avg Attendance</th>\n",
       "      <th>(H) % Capacity</th>\n",
       "      <th># (A) Games</th>\n",
       "      <th>(A) Avg Attendance</th>\n",
       "      <th>(A) % Capacity</th>\n",
       "      <th>(A) Games</th>\n",
       "      <th>(H) &amp; (A) Avg</th>\n",
       "      <th>(H) &amp; (A) PCT</th>\n",
       "    </tr>\n",
       "  </thead>\n",
       "  <tbody>\n",
       "    <tr>\n",
       "      <th>0</th>\n",
       "      <td>2008-2009</td>\n",
       "      <td>Atlanta Hawks</td>\n",
       "      <td>1.16</td>\n",
       "      <td>1</td>\n",
       "      <td>0.45</td>\n",
       "      <td>41</td>\n",
       "      <td>686688</td>\n",
       "      <td>18118</td>\n",
       "      <td>742838</td>\n",
       "      <td>16748</td>\n",
       "      <td>0.89</td>\n",
       "      <td>41</td>\n",
       "      <td>17303</td>\n",
       "      <td>0.90</td>\n",
       "      <td>82</td>\n",
       "      <td>17026</td>\n",
       "      <td>0.90</td>\n",
       "    </tr>\n",
       "    <tr>\n",
       "      <th>1</th>\n",
       "      <td>2009-2010</td>\n",
       "      <td>Atlanta Hawks</td>\n",
       "      <td>1.05</td>\n",
       "      <td>2</td>\n",
       "      <td>0.57</td>\n",
       "      <td>41</td>\n",
       "      <td>678375</td>\n",
       "      <td>18118</td>\n",
       "      <td>742838</td>\n",
       "      <td>16546</td>\n",
       "      <td>0.88</td>\n",
       "      <td>41</td>\n",
       "      <td>17097</td>\n",
       "      <td>0.89</td>\n",
       "      <td>82</td>\n",
       "      <td>16821</td>\n",
       "      <td>0.88</td>\n",
       "    </tr>\n",
       "    <tr>\n",
       "      <th>2</th>\n",
       "      <td>2010-2011</td>\n",
       "      <td>Atlanta Hawks</td>\n",
       "      <td>1.17</td>\n",
       "      <td>2</td>\n",
       "      <td>0.65</td>\n",
       "      <td>41</td>\n",
       "      <td>641596</td>\n",
       "      <td>18118</td>\n",
       "      <td>742838</td>\n",
       "      <td>15649</td>\n",
       "      <td>0.84</td>\n",
       "      <td>41</td>\n",
       "      <td>16957</td>\n",
       "      <td>0.88</td>\n",
       "      <td>82</td>\n",
       "      <td>16303</td>\n",
       "      <td>0.86</td>\n",
       "    </tr>\n",
       "    <tr>\n",
       "      <th>3</th>\n",
       "      <td>2011-2012</td>\n",
       "      <td>Atlanta Hawks</td>\n",
       "      <td>1.23</td>\n",
       "      <td>1</td>\n",
       "      <td>0.54</td>\n",
       "      <td>33</td>\n",
       "      <td>501593</td>\n",
       "      <td>18118</td>\n",
       "      <td>597894</td>\n",
       "      <td>15200</td>\n",
       "      <td>0.81</td>\n",
       "      <td>33</td>\n",
       "      <td>16820</td>\n",
       "      <td>0.87</td>\n",
       "      <td>66</td>\n",
       "      <td>16010</td>\n",
       "      <td>0.84</td>\n",
       "    </tr>\n",
       "    <tr>\n",
       "      <th>4</th>\n",
       "      <td>2012-2013</td>\n",
       "      <td>Atlanta Hawks</td>\n",
       "      <td>1.13</td>\n",
       "      <td>0</td>\n",
       "      <td>0.61</td>\n",
       "      <td>41</td>\n",
       "      <td>620146</td>\n",
       "      <td>18118</td>\n",
       "      <td>742838</td>\n",
       "      <td>15126</td>\n",
       "      <td>0.81</td>\n",
       "      <td>41</td>\n",
       "      <td>17165</td>\n",
       "      <td>0.89</td>\n",
       "      <td>82</td>\n",
       "      <td>16145</td>\n",
       "      <td>0.85</td>\n",
       "    </tr>\n",
       "  </tbody>\n",
       "</table>\n",
       "</div>"
      ],
      "text/plain": [
       "  NBA Season           Team  % Salary Cap  Prev # All-Stars  Prev W-L  \\\n",
       "0  2008-2009  Atlanta Hawks          1.16                 1      0.45   \n",
       "1  2009-2010  Atlanta Hawks          1.05                 2      0.57   \n",
       "2  2010-2011  Atlanta Hawks          1.17                 2      0.65   \n",
       "3  2011-2012  Atlanta Hawks          1.23                 1      0.54   \n",
       "4  2012-2013  Atlanta Hawks          1.13                 0      0.61   \n",
       "\n",
       "   # (H) Games  (H) Attendance Season  (H) Arena Capacity  \\\n",
       "0           41                 686688               18118   \n",
       "1           41                 678375               18118   \n",
       "2           41                 641596               18118   \n",
       "3           33                 501593               18118   \n",
       "4           41                 620146               18118   \n",
       "\n",
       "   (H) Capacity Season  (H) Avg Attendance  (H) % Capacity  # (A) Games  \\\n",
       "0               742838               16748            0.89           41   \n",
       "1               742838               16546            0.88           41   \n",
       "2               742838               15649            0.84           41   \n",
       "3               597894               15200            0.81           33   \n",
       "4               742838               15126            0.81           41   \n",
       "\n",
       "   (A) Avg Attendance  (A) % Capacity  (A) Games  (H) & (A) Avg  (H) & (A) PCT  \n",
       "0               17303            0.90         82          17026           0.90  \n",
       "1               17097            0.89         82          16821           0.88  \n",
       "2               16957            0.88         82          16303           0.86  \n",
       "3               16820            0.87         66          16010           0.84  \n",
       "4               17165            0.89         82          16145           0.85  "
      ]
     },
     "execution_count": 20,
     "metadata": {},
     "output_type": "execute_result"
    }
   ],
   "source": [
    "df = pd.read_csv('Data/Most All Stars.csv')\n",
    "df.head()"
   ]
  },
  {
   "cell_type": "code",
   "execution_count": 21,
   "metadata": {},
   "outputs": [],
   "source": [
    "# Assign the data to X and y \n",
    "X = df[\"Prev # All-Stars\"].values.reshape(-1, 1)\n",
    "y = df[\"(H) % Capacity\"].values.reshape(-1, 1)"
   ]
  },
  {
   "cell_type": "code",
   "execution_count": 22,
   "metadata": {},
   "outputs": [
    {
     "data": {
      "text/plain": [
       "Text(0.5,0,'# All-Stars Previous Season')"
      ]
     },
     "execution_count": 22,
     "metadata": {},
     "output_type": "execute_result"
    },
    {
     "data": {
      "image/png": "[encoded data removed]",
      "text/plain": [
       "<matplotlib.figure.Figure at 0x2032d4b1da0>"
      ]
     },
     "metadata": {},
     "output_type": "display_data"
    }
   ],
   "source": [
    "# Plot the data to see if a linear trend exists\n",
    "\n",
    "plt.scatter(X, y)\n",
    "plt.ylabel(\"% of Attendance Capacity\")\n",
    "plt.xlabel(\"# All-Stars Previous Season\")"
   ]
  },
  {
   "cell_type": "code",
   "execution_count": 23,
   "metadata": {},
   "outputs": [],
   "source": [
    "# Split the data into training and testing\n",
    "\n",
    "from sklearn.model_selection import train_test_split\n",
    "\n",
    "X_train, X_test, y_train, y_test = train_test_split(X, y, random_state=42)"
   ]
  },
  {
   "cell_type": "code",
   "execution_count": 24,
   "metadata": {},
   "outputs": [],
   "source": [
    "# Create the model\n",
    "\n",
    "from sklearn.linear_model import LinearRegression\n",
    "\n",
    "model = LinearRegression()"
   ]
  },
  {
   "cell_type": "code",
   "execution_count": 25,
   "metadata": {},
   "outputs": [
    {
     "data": {
      "text/plain": [
       "LinearRegression(copy_X=True, fit_intercept=True, n_jobs=1, normalize=False)"
      ]
     },
     "execution_count": 25,
     "metadata": {},
     "output_type": "execute_result"
    }
   ],
   "source": [
    "# Fit the model to the training data\n",
    "\n",
    "model.fit(X_train, y_train)"
   ]
  },
  {
   "cell_type": "code",
   "execution_count": 26,
   "metadata": {},
   "outputs": [
    {
     "name": "stdout",
     "output_type": "stream",
     "text": [
      "Mean Squared Error (MSE): 0.005597371172862347\n",
      "R-squared (R2 ): -0.010206952008305903\n"
     ]
    }
   ],
   "source": [
    "# Calculate the mean_squared_error and the r-squared value for the testing data\n",
    "\n",
    "from sklearn.metrics import mean_squared_error, r2_score\n",
    "\n",
    "# Use model to make predictions\n",
    "\n",
    "predicted = model.predict(X_test)\n",
    "\n",
    "# Score the predictions with mse and r2\n",
    "\n",
    "mse = mean_squared_error(y_test, predicted)\n",
    "r2 = r2_score(y_test, predicted)\n",
    "\n",
    "print(f\"Mean Squared Error (MSE): {mse}\")\n",
    "print(f\"R-squared (R2 ): {r2}\")"
   ]
  },
  {
   "cell_type": "code",
   "execution_count": null,
   "metadata": {},
   "outputs": [],
   "source": []
  }
 ],
 "metadata": {
  "kernelspec": {
   "display_name": "Python 3",
   "language": "python",
   "name": "python3"
  },
  "language_info": {
   "codemirror_mode": {
    "name": "ipython",
    "version": 3
   },
   "file_extension": ".py",
   "mimetype": "text/x-python",
   "name": "python",
   "nbconvert_exporter": "python",
   "pygments_lexer": "ipython3",
   "version": "3.6.3"
  }
 },
 "nbformat": 4,
 "nbformat_minor": 2
}
