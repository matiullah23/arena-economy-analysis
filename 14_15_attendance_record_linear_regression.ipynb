{
 "cells": [
  {
   "cell_type": "code",
   "execution_count": 9,
   "metadata": {},
   "outputs": [],
   "source": [
    "%matplotlib inline\n",
    "import matplotlib.pyplot as plt\n",
    "import numpy as np\n",
    "import pandas as pd"
   ]
  },
  {
   "cell_type": "code",
   "execution_count": 10,
   "metadata": {},
   "outputs": [
    {
     "data": {
      "text/html": [
       "<div>\n",
       "<style>\n",
       "    .dataframe thead tr:only-child th {\n",
       "        text-align: right;\n",
       "    }\n",
       "\n",
       "    .dataframe thead th {\n",
       "        text-align: left;\n",
       "    }\n",
       "\n",
       "    .dataframe tbody tr th {\n",
       "        vertical-align: top;\n",
       "    }\n",
       "</style>\n",
       "<table border=\"1\" class=\"dataframe\">\n",
       "  <thead>\n",
       "    <tr style=\"text-align: right;\">\n",
       "      <th></th>\n",
       "      <th>Starting Year</th>\n",
       "      <th>Rank</th>\n",
       "      <th>Team</th>\n",
       "      <th>Home: Total Games</th>\n",
       "      <th>Home: Total Attendance</th>\n",
       "      <th>Home: Avg Attendance</th>\n",
       "      <th>Home: % Capactiy</th>\n",
       "      <th>Away: Total Games</th>\n",
       "      <th>Away: Total Attendance</th>\n",
       "      <th>Away: Avg Attendance</th>\n",
       "      <th>Away: % Capactiy</th>\n",
       "      <th>Total AVG</th>\n",
       "      <th>Total PCT</th>\n",
       "    </tr>\n",
       "  </thead>\n",
       "  <tbody>\n",
       "    <tr>\n",
       "      <th>0</th>\n",
       "      <td>2016</td>\n",
       "      <td>28</td>\n",
       "      <td>Philadelphia 76ers</td>\n",
       "      <td>41</td>\n",
       "      <td>610121.0</td>\n",
       "      <td>14881.0</td>\n",
       "      <td>73.2</td>\n",
       "      <td>41</td>\n",
       "      <td>17491.0</td>\n",
       "      <td>90.7</td>\n",
       "      <td>82</td>\n",
       "      <td>16186.0</td>\n",
       "      <td>81.95</td>\n",
       "    </tr>\n",
       "    <tr>\n",
       "      <th>1</th>\n",
       "      <td>2015</td>\n",
       "      <td>28</td>\n",
       "      <td>Philadelphia 76ers</td>\n",
       "      <td>41</td>\n",
       "      <td>610121.0</td>\n",
       "      <td>14881.0</td>\n",
       "      <td>73.2</td>\n",
       "      <td>41</td>\n",
       "      <td>17491.0</td>\n",
       "      <td>90.7</td>\n",
       "      <td>82</td>\n",
       "      <td>16186.0</td>\n",
       "      <td>81.95</td>\n",
       "    </tr>\n",
       "    <tr>\n",
       "      <th>2</th>\n",
       "      <td>2014</td>\n",
       "      <td>30</td>\n",
       "      <td>Philadelphia 76ers</td>\n",
       "      <td>41</td>\n",
       "      <td>571572.0</td>\n",
       "      <td>13940.0</td>\n",
       "      <td>68.6</td>\n",
       "      <td>41</td>\n",
       "      <td>17665.0</td>\n",
       "      <td>91.8</td>\n",
       "      <td>82</td>\n",
       "      <td>15803.0</td>\n",
       "      <td>80.20</td>\n",
       "    </tr>\n",
       "    <tr>\n",
       "      <th>3</th>\n",
       "      <td>2013</td>\n",
       "      <td>29</td>\n",
       "      <td>Philadelphia 76ers</td>\n",
       "      <td>41</td>\n",
       "      <td>568632.0</td>\n",
       "      <td>13869.0</td>\n",
       "      <td>68.2</td>\n",
       "      <td>41</td>\n",
       "      <td>17441.0</td>\n",
       "      <td>90.5</td>\n",
       "      <td>82</td>\n",
       "      <td>15655.0</td>\n",
       "      <td>79.35</td>\n",
       "    </tr>\n",
       "    <tr>\n",
       "      <th>4</th>\n",
       "      <td>2012</td>\n",
       "      <td>17</td>\n",
       "      <td>Philadelphia 76ers</td>\n",
       "      <td>41</td>\n",
       "      <td>685412.0</td>\n",
       "      <td>16717.0</td>\n",
       "      <td>82.2</td>\n",
       "      <td>41</td>\n",
       "      <td>17323.0</td>\n",
       "      <td>90.2</td>\n",
       "      <td>82</td>\n",
       "      <td>17020.0</td>\n",
       "      <td>86.20</td>\n",
       "    </tr>\n",
       "  </tbody>\n",
       "</table>\n",
       "</div>"
      ],
      "text/plain": [
       "   Starting Year  Rank                Team  Home: Total Games  \\\n",
       "0           2016    28  Philadelphia 76ers                 41   \n",
       "1           2015    28  Philadelphia 76ers                 41   \n",
       "2           2014    30  Philadelphia 76ers                 41   \n",
       "3           2013    29  Philadelphia 76ers                 41   \n",
       "4           2012    17  Philadelphia 76ers                 41   \n",
       "\n",
       "   Home: Total Attendance  Home: Avg Attendance Home: % Capactiy  \\\n",
       "0                610121.0               14881.0             73.2   \n",
       "1                610121.0               14881.0             73.2   \n",
       "2                571572.0               13940.0             68.6   \n",
       "3                568632.0               13869.0             68.2   \n",
       "4                685412.0               16717.0             82.2   \n",
       "\n",
       "   Away: Total Games  Away: Total Attendance  Away: Avg Attendance  \\\n",
       "0                 41                 17491.0                  90.7   \n",
       "1                 41                 17491.0                  90.7   \n",
       "2                 41                 17665.0                  91.8   \n",
       "3                 41                 17441.0                  90.5   \n",
       "4                 41                 17323.0                  90.2   \n",
       "\n",
       "   Away: % Capactiy  Total AVG  Total PCT  \n",
       "0                82    16186.0      81.95  \n",
       "1                82    16186.0      81.95  \n",
       "2                82    15803.0      80.20  \n",
       "3                82    15655.0      79.35  \n",
       "4                82    17020.0      86.20  "
      ]
     },
     "execution_count": 10,
     "metadata": {},
     "output_type": "execute_result"
    }
   ],
   "source": [
    "# Read the csv file into a pandas DataFrame\n",
    "attendance = pd.read_csv('Data/10-yr-data/attendance.csv')\n",
    "attendance.head()"
   ]
  },
  {
   "cell_type": "code",
   "execution_count": 11,
   "metadata": {},
   "outputs": [
    {
     "data": {
      "text/html": [
       "<div>\n",
       "<style>\n",
       "    .dataframe thead tr:only-child th {\n",
       "        text-align: right;\n",
       "    }\n",
       "\n",
       "    .dataframe thead th {\n",
       "        text-align: left;\n",
       "    }\n",
       "\n",
       "    .dataframe tbody tr th {\n",
       "        vertical-align: top;\n",
       "    }\n",
       "</style>\n",
       "<table border=\"1\" class=\"dataframe\">\n",
       "  <thead>\n",
       "    <tr style=\"text-align: right;\">\n",
       "      <th></th>\n",
       "      <th>Year</th>\n",
       "      <th>Team</th>\n",
       "      <th>Count of Player</th>\n",
       "    </tr>\n",
       "  </thead>\n",
       "  <tbody>\n",
       "    <tr>\n",
       "      <th>0</th>\n",
       "      <td>2011-2012</td>\n",
       "      <td>Atlanta Hawks</td>\n",
       "      <td>0</td>\n",
       "    </tr>\n",
       "    <tr>\n",
       "      <th>1</th>\n",
       "      <td>2006-2007</td>\n",
       "      <td>Atlanta Hawks</td>\n",
       "      <td>1</td>\n",
       "    </tr>\n",
       "    <tr>\n",
       "      <th>2</th>\n",
       "      <td>2007-2008</td>\n",
       "      <td>Atlanta Hawks</td>\n",
       "      <td>1</td>\n",
       "    </tr>\n",
       "    <tr>\n",
       "      <th>3</th>\n",
       "      <td>2010-2011</td>\n",
       "      <td>Atlanta Hawks</td>\n",
       "      <td>1</td>\n",
       "    </tr>\n",
       "    <tr>\n",
       "      <th>4</th>\n",
       "      <td>2012-2013</td>\n",
       "      <td>Atlanta Hawks</td>\n",
       "      <td>1</td>\n",
       "    </tr>\n",
       "  </tbody>\n",
       "</table>\n",
       "</div>"
      ],
      "text/plain": [
       "        Year           Team  Count of Player\n",
       "0  2011-2012  Atlanta Hawks                0\n",
       "1  2006-2007  Atlanta Hawks                1\n",
       "2  2007-2008  Atlanta Hawks                1\n",
       "3  2010-2011  Atlanta Hawks                1\n",
       "4  2012-2013  Atlanta Hawks                1"
      ]
     },
     "execution_count": 11,
     "metadata": {},
     "output_type": "execute_result"
    }
   ],
   "source": [
    "allstars = pd.read_csv('Data/10-yr-data/allstars.csv')\n",
    "allstars.head()"
   ]
  },
  {
   "cell_type": "code",
   "execution_count": 4,
   "metadata": {},
   "outputs": [],
   "source": [
    "\n"
   ]
  },
  {
   "cell_type": "code",
   "execution_count": 5,
   "metadata": {},
   "outputs": [
    {
     "data": {
      "text/html": [
       "<div>\n",
       "<style>\n",
       "    .dataframe thead tr:only-child th {\n",
       "        text-align: right;\n",
       "    }\n",
       "\n",
       "    .dataframe thead th {\n",
       "        text-align: left;\n",
       "    }\n",
       "\n",
       "    .dataframe tbody tr th {\n",
       "        vertical-align: top;\n",
       "    }\n",
       "</style>\n",
       "<table border=\"1\" class=\"dataframe\">\n",
       "  <thead>\n",
       "    <tr style=\"text-align: right;\">\n",
       "      <th></th>\n",
       "      <th>Year\tTeam\tCount of Player</th>\n",
       "    </tr>\n",
       "  </thead>\n",
       "  <tbody>\n",
       "    <tr>\n",
       "      <th>0</th>\n",
       "      <td>2006-2007\\tAtlanta Hawks\\t1</td>\n",
       "    </tr>\n",
       "    <tr>\n",
       "      <th>1</th>\n",
       "      <td>2006-2007\\tBoston Celtics\\t3</td>\n",
       "    </tr>\n",
       "    <tr>\n",
       "      <th>2</th>\n",
       "      <td>2006-2007\\tCleveland Cavaliers\\t1</td>\n",
       "    </tr>\n",
       "    <tr>\n",
       "      <th>3</th>\n",
       "      <td>2006-2007\\tDallas Mavericks\\t1</td>\n",
       "    </tr>\n",
       "    <tr>\n",
       "      <th>4</th>\n",
       "      <td>2006-2007\\tDenver Nuggets\\t2</td>\n",
       "    </tr>\n",
       "  </tbody>\n",
       "</table>\n",
       "</div>"
      ],
      "text/plain": [
       "         Year\\tTeam\\tCount of Player\n",
       "0        2006-2007\\tAtlanta Hawks\\t1\n",
       "1       2006-2007\\tBoston Celtics\\t3\n",
       "2  2006-2007\\tCleveland Cavaliers\\t1\n",
       "3     2006-2007\\tDallas Mavericks\\t1\n",
       "4       2006-2007\\tDenver Nuggets\\t2"
      ]
     },
     "execution_count": 5,
     "metadata": {},
     "output_type": "execute_result"
    }
   ],
   "source": [
    "\n"
   ]
  },
  {
   "cell_type": "code",
   "execution_count": null,
   "metadata": {},
   "outputs": [],
   "source": []
  },
  {
   "cell_type": "code",
   "execution_count": null,
   "metadata": {},
   "outputs": [],
   "source": [
    "# Assign the data to X and y\n",
    "X = df.TotalAttendance.values.reshape(-1, 1)\n",
    "y = df.WinLoss.values.reshape(-1, 1)\n",
    "\n",
    "print(\"Shape: \", X.shape, y.shape)\n",
    "X"
   ]
  },
  {
   "cell_type": "code",
   "execution_count": null,
   "metadata": {},
   "outputs": [],
   "source": [
    "# Plot the data\n",
    "plt.scatter(X, y)"
   ]
  },
  {
   "cell_type": "code",
   "execution_count": null,
   "metadata": {},
   "outputs": [],
   "source": [
    "# Create the model and fit the model to the data\n",
    "from sklearn.linear_model import LinearRegression\n",
    "\n",
    "model = LinearRegression()"
   ]
  },
  {
   "cell_type": "code",
   "execution_count": null,
   "metadata": {},
   "outputs": [],
   "source": [
    "# Fit the model to the data\n",
    "model.fit(X, y)"
   ]
  },
  {
   "cell_type": "code",
   "execution_count": null,
   "metadata": {},
   "outputs": [],
   "source": [
    "# Print the coefficient and the intercept for the model\n",
    "\n",
    "print('Weight coefficients: ', model.coef_)\n",
    "print('y-axis intercept: ', model.intercept_)"
   ]
  },
  {
   "cell_type": "code",
   "execution_count": null,
   "metadata": {},
   "outputs": [],
   "source": [
    "# Transform min and max values to the proper format for model.predict() \n",
    "x_min = np.array([[X.min()]])\n",
    "x_max = np.array([[X.max()]])\n",
    "print(f\"Min X Value: {x_min}\")\n",
    "print(f\"Max X Value: {x_max}\")"
   ]
  },
  {
   "cell_type": "code",
   "execution_count": null,
   "metadata": {},
   "outputs": [],
   "source": [
    "y_min = model.predict(x_min)\n",
    "y_max = model.predict(x_max)"
   ]
  },
  {
   "cell_type": "code",
   "execution_count": null,
   "metadata": {},
   "outputs": [],
   "source": [
    "plt.scatter(X, y, c='blue')\n",
    "plt.plot([x_min[0], x_max[0]], [y_min[0], y_max[0]], c='red')"
   ]
  },
  {
   "cell_type": "code",
   "execution_count": null,
   "metadata": {},
   "outputs": [],
   "source": []
  }
 ],
 "metadata": {
  "kernelspec": {
   "display_name": "Python 3",
   "language": "python",
   "name": "python3"
  },
  "language_info": {
   "codemirror_mode": {
    "name": "ipython",
    "version": 3
   },
   "file_extension": ".py",
   "mimetype": "text/x-python",
   "name": "python",
   "nbconvert_exporter": "python",
   "pygments_lexer": "ipython3",
   "version": "3.6.3"
  }
 },
 "nbformat": 4,
 "nbformat_minor": 2
}
